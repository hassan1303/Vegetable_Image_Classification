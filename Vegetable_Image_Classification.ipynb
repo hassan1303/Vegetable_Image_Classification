{
  "nbformat": 4,
  "nbformat_minor": 0,
  "metadata": {
    "colab": {
      "provenance": [],
      "authorship_tag": "ABX9TyOcqy3Uo3YQi4TBhb2bacTa",
      "include_colab_link": true
    },
    "kernelspec": {
      "name": "python3",
      "display_name": "Python 3"
    },
    "language_info": {
      "name": "python"
    }
  },
  "cells": [
    {
      "cell_type": "markdown",
      "metadata": {
        "id": "view-in-github",
        "colab_type": "text"
      },
      "source": [
        "<a href=\"https://colab.research.google.com/github/hassan1303/Vegetable_Image_Classification/blob/main/Vegetable_Image_Classification.ipynb\" target=\"_parent\"><img src=\"https://colab.research.google.com/assets/colab-badge.svg\" alt=\"Open In Colab\"/></a>"
      ]
    },
    {
      "cell_type": "markdown",
      "source": [
        "# ArewaDS Deep Learning Cohort 2.0 – Capstone Project  \n",
        "### Group 4: Deep Learning-Based Vegetable Image Classification\n"
      ],
      "metadata": {
        "id": "lMVkPqx-p9hr"
      }
    },
    {
      "cell_type": "code",
      "execution_count": null,
      "metadata": {
        "id": "5A7jJ78jjSBs"
      },
      "outputs": [],
      "source": []
    }
  ]
}